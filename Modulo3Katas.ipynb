{
 "cells": [
  {
   "cell_type": "markdown",
   "metadata": {},
   "source": [
    "Para este ejercicio, escribirás una lógica condicional que imprima una advertencia si un asteroide se acerca a la Tierra demasiado rápido. La velocidad del asteroide varía dependiendo de lo cerca que esté del sol, y cualquier velocidad superior a 25 kilómetros por segundo (km/s) merece una advertencia.\n",
    "\n",
    "Un asteroide se acerca, y viaja a una velocidad de 49 km/s.\n",
    "\n",
    "# Añadir el código necesario para crear una variable que guarde la velocidad del asteroide.\n",
    "# Escribe una expresión de prueba para calcular si necesita una advertencia.\n",
    "# Agregue las instrucciones que se ejecutarán si la expresión de prueba es true o false."
   ]
  },
  {
   "cell_type": "code",
   "execution_count": 2,
   "metadata": {},
   "outputs": [
    {
     "name": "stdout",
     "output_type": "stream",
     "text": [
      "No hay peligro del Asteroide\n"
     ]
    }
   ],
   "source": [
    "velocidadAsteroide= 49\n",
    "\n",
    "velocidadSuperiorAsteroid=25\n",
    "\n",
    "if(velocidadSuperiorAsteroid > velocidadAsteroide):\n",
    "    print(\"Un Asteroide se acerca a la Tierra muy fuerte\\n\")\n",
    "else:\n",
    "    print(\"No hay peligro del Asteroide\")\n"
   ]
  },
  {
   "cell_type": "markdown",
   "metadata": {},
   "source": [
    "Si un asteroide entra en la atmósfera de la Tierra a una velocidad mayor o igual a 20 km/s, a veces produce un rayo de luz que se puede ver desde la Tierra. Escribe la lógica condicional que usa declaraciones if, else, y elif para alertar a las personas de todo el mundo que deben buscar un asteroide en el cielo. ¡Hay uno que se dirige a la tierra ahora a una velocidad de 19 km/s!\n",
    "\n",
    "# Agrega el código para crear una variable para un asteroide que viaja a 19 km/s\n",
    "# Escribe varias expresiones de prueba para determinar si puedes ver el rayo de luz desde la tierra\n",
    "# Agrega las instrucciones que se ejecutarán si las expresiones de prueba son True o False"
   ]
  },
  {
   "cell_type": "code",
   "execution_count": 4,
   "metadata": {},
   "outputs": [
    {
     "name": "stdout",
     "output_type": "stream",
     "text": [
      "No hay nada en el cielo\n"
     ]
    }
   ],
   "source": [
    "# asteroide >= 20\n",
    "\n",
    "velocidadAsteroide = 19\n",
    "\n",
    "if(velocidadAsteroide > 20 ):\n",
    "    print(\"Fijate en el cielo, hay un Asteroide \\n\")\n",
    "elif velocidadAsteroide == 20 :\n",
    "    print(\"Mira en el cielo se ve una luz del asteroide\")\n",
    "else:\n",
    "    print(\"No hay nada en el cielo\")"
   ]
  },
  {
   "cell_type": "markdown",
   "metadata": {},
   "source": [
    "# Agrega el código para crear nuevas variables para la velocidad y el tamaño del asteroide\n",
    "# Para probar el código, prueba con varias velocidades y tamaños\n",
    "# Escribe varias expresiones de prueba o combinaciones de expresiones de prueba para determinar qué mensaje se debe enviar a Tierra."
   ]
  },
  {
   "cell_type": "code",
   "execution_count": 5,
   "metadata": {},
   "outputs": [
    {
     "name": "stdout",
     "output_type": "stream",
     "text": [
      "Mira al cielo, hay un rayo de luz \n",
      "\n"
     ]
    }
   ],
   "source": [
    "velocidad = 25\n",
    "tamanoAsteroide= 60 # porque debe ser mayor a 25 y menor a 1000\n",
    "\n",
    "if(velocidad > 25 and tamanoAsteroide > 25 ):\n",
    "    print(\"Cuidado!, un asteroide se dirige a la Tierra \\n\")\n",
    "elif velocidad >= 20:\n",
    "    print(\"Mira al cielo, hay un rayo de luz \\n\")\n",
    "elif tamanoAsteroide < 25:\n",
    "    print(\"No hay nada, se quemo en la atmosfera \\n\")\n",
    "else:\n",
    "    print(\"No hay nada, se quemo en la atmosfera \\n\")"
   ]
  }
 ],
 "metadata": {
  "interpreter": {
   "hash": "aee8b7b246df8f9039afb4144a1f6fd8d2ca17a180786b69acc140d282b71a49"
  },
  "kernelspec": {
   "display_name": "Python 3.10.2 64-bit",
   "language": "python",
   "name": "python3"
  },
  "language_info": {
   "codemirror_mode": {
    "name": "ipython",
    "version": 3
   },
   "file_extension": ".py",
   "mimetype": "text/x-python",
   "name": "python",
   "nbconvert_exporter": "python",
   "pygments_lexer": "ipython3",
   "version": "3.10.2"
  },
  "orig_nbformat": 4
 },
 "nbformat": 4,
 "nbformat_minor": 2
}
