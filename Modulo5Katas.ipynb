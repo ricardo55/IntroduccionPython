{
 "cells": [
  {
   "cell_type": "markdown",
   "metadata": {},
   "source": [
    "Exploremos cómo podemos crear un programa que pueda calcular la distancia entre dos planetas. Comenzaremos usando dos distancias de planetas: Tierra (149.597.870 km) y Júpiter (778.547.200 km)."
   ]
  },
  {
   "cell_type": "code",
   "execution_count": 1,
   "metadata": {},
   "outputs": [],
   "source": [
    "# Crear variables para almacenar las dos distancias\n",
    "# ¡Asegúrate de quitar las comas!\n",
    "\n",
    "tierra= 149597870\n",
    "jupiter= 778547200"
   ]
  },
  {
   "cell_type": "markdown",
   "metadata": {},
   "source": [
    "# Calcular la distancia entre planetas"
   ]
  },
  {
   "cell_type": "code",
   "execution_count": 4,
   "metadata": {},
   "outputs": [
    {
     "name": "stdout",
     "output_type": "stream",
     "text": [
      "La distancia es: 628949330 km\n",
      "\n",
      "\n",
      "La distancia es: 390577533.93 millas\n"
     ]
    }
   ],
   "source": [
    "distancia= jupiter - tierra\n",
    "# 1 km ---> 0.621 millas\n",
    "# distancia ----  X\n",
    "\n",
    "distanciaMillas=distancia*0.621\n",
    "\n",
    "print(\"La distancia es: \"+ str(distancia)+\" \"+\"km\")\n",
    "print(\"\\n\")\n",
    "print(\"La distancia es: \"+ str(distanciaMillas)+\" \"+\"millas\")"
   ]
  },
  {
   "cell_type": "markdown",
   "metadata": {},
   "source": [
    "# Ejercicio 2: convierte cadenas en números y usa valores absolutos"
   ]
  },
  {
   "cell_type": "code",
   "execution_count": 9,
   "metadata": {},
   "outputs": [],
   "source": [
    "# Almacenar las entradas del usuario\n",
    "#Pista: variable = input(\"¿Cuál es tu nombre?\")\n",
    "# Convierte las cadenas de ambos planetas a números enteros\n",
    "\n",
    "planeta1= int(input('Introduzca la distancia del sol para el primer planeta en KM \\n'))\n",
    "\n",
    "planeta2= int(input('Introduzca la distancia del sol para el segundo planeta en KM \\n'))"
   ]
  },
  {
   "cell_type": "code",
   "execution_count": 11,
   "metadata": {},
   "outputs": [
    {
     "name": "stdout",
     "output_type": "stream",
     "text": [
      "La distancia es de: 996000000 KM\n",
      "La distancia es de: 618516000.0 millas\n"
     ]
    }
   ],
   "source": [
    "# Realizar el cálculo y determinar el valor absoluto\n",
    "\n",
    "distanciaPlanetas=planeta1-planeta2\n",
    "\n",
    "distanciaTotal=abs(distanciaPlanetas)\n",
    "\n",
    "print(\"La distancia es de: \"+str(distanciaTotal)+\" KM\")\n",
    "\n",
    "\n",
    "# Convertir de KM a Millas\n",
    "\n",
    "# 1 km ---> 0.621 millas\n",
    "# distancia ----  X\n",
    "\n",
    "distanciaTotalMillas=distanciaTotal*0.621\n",
    "\n",
    "print(\"La distancia es de: \"+str(distanciaTotalMillas)+\" millas\")\n"
   ]
  },
  {
   "cell_type": "code",
   "execution_count": null,
   "metadata": {},
   "outputs": [],
   "source": []
  }
 ],
 "metadata": {
  "interpreter": {
   "hash": "aee8b7b246df8f9039afb4144a1f6fd8d2ca17a180786b69acc140d282b71a49"
  },
  "kernelspec": {
   "display_name": "Python 3.10.2 64-bit",
   "language": "python",
   "name": "python3"
  },
  "language_info": {
   "codemirror_mode": {
    "name": "ipython",
    "version": 3
   },
   "file_extension": ".py",
   "mimetype": "text/x-python",
   "name": "python",
   "nbconvert_exporter": "python",
   "pygments_lexer": "ipython3",
   "version": "3.10.2"
  },
  "orig_nbformat": 4
 },
 "nbformat": 4,
 "nbformat_minor": 2
}
