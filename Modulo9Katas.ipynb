{
 "cells": [
  {
   "cell_type": "markdown",
   "metadata": {},
   "source": [
    "# Ejercicio: Uso de funciones en Python\n",
    "Ejercicio 1: Trabajar con argumentos en funciones"
   ]
  },
  {
   "cell_type": "markdown",
   "metadata": {},
   "source": [
    "Comienza por crear una función que necesite tres lecturas de combustible y devuelva un informe:"
   ]
  },
  {
   "cell_type": "code",
   "execution_count": 6,
   "metadata": {},
   "outputs": [],
   "source": [
    "# Función para leer 3 tanques de combustible y muestre el promedio\n",
    "\n",
    "def reporteNave(tanque,tanque2,tanque3):\n",
    "    informePromedio= (tanque+tanque2+tanque3)/ 3\n",
    "    return f\"\"\"Reporte:\n",
    "        Promedio: {informePromedio}%\n",
    "        Tanque 1: {tanque}%\n",
    "        Tanque 2: {tanque2}%\n",
    "        Tanque 3: {tanque3}% \n",
    "        \"\"\"\n",
    "\n",
    "\t"
   ]
  },
  {
   "cell_type": "markdown",
   "metadata": {},
   "source": [
    "Ahora que hemos definido la función de informes, vamos a comprobarlo. Para esta misión, los tanques no están llenos:\n"
   ]
  },
  {
   "cell_type": "code",
   "execution_count": 7,
   "metadata": {},
   "outputs": [
    {
     "name": "stdout",
     "output_type": "stream",
     "text": [
      "Reporte:\n",
      "        Promedio: 20.0%\n",
      "        Tanque 1: 10%\n",
      "        Tanque 2: 20%\n",
      "        Tanque 3: 30% \n",
      "        \n"
     ]
    }
   ],
   "source": [
    "# Llamamos a la función que genera el reporte print(funcion(tanque1, tanque2, tanque3))\n",
    "\n",
    "print(reporteNave(10,20,30))"
   ]
  },
  {
   "cell_type": "markdown",
   "metadata": {},
   "source": [
    "En lugar de simplemente crear el informe, la función también está calculando el promedio. Mejora la legibilidad extrayendo el cálculo promedio de la función en una nueva función para que el promedio se pueda hacer de forma independiente:"
   ]
  },
  {
   "cell_type": "code",
   "execution_count": 9,
   "metadata": {},
   "outputs": [
    {
     "data": {
      "text/plain": [
       "82.0"
      ]
     },
     "execution_count": 9,
     "metadata": {},
     "output_type": "execute_result"
    }
   ],
   "source": [
    "# Función promedio \n",
    "def promedio(listaNumeros):\n",
    "    suma=sum(listaNumeros)\n",
    "    totalDatos=len(listaNumeros)\n",
    "    prom=suma/totalDatos\n",
    "    return prom\n",
    "\n",
    "\n",
    "promedio([80, 85, 81]) "
   ]
  },
  {
   "cell_type": "markdown",
   "metadata": {},
   "source": [
    "Ahora actualiza la función de informes para llamando a la nueva función del promedio:"
   ]
  },
  {
   "cell_type": "code",
   "execution_count": 13,
   "metadata": {},
   "outputs": [
    {
     "name": "stdout",
     "output_type": "stream",
     "text": [
      "Reporte:\n",
      "        Promedio: 78.0%\n",
      "        Tanque 1: 88%\n",
      "        Tanque 2: 76%\n",
      "        Tanque 3: 70% \n",
      "        \n"
     ]
    }
   ],
   "source": [
    "# Actualiza la función\n",
    "def reporteNave2(tanque,tanque2,tanque3):\n",
    "    lista=[]\n",
    "    lista.append(tanque)\n",
    "    lista.append(tanque2)\n",
    "    lista.append(tanque3)\n",
    "\n",
    "    informePromedio= promedio(lista)\n",
    "    return f\"\"\"Reporte:\n",
    "        Promedio: {informePromedio}%\n",
    "        Tanque 1: {tanque}%\n",
    "        Tanque 2: {tanque2}%\n",
    "        Tanque 3: {tanque3}% \n",
    "        \"\"\"\n",
    "print(reporteNave2(88, 76, 70))"
   ]
  },
  {
   "cell_type": "markdown",
   "metadata": {},
   "source": [
    "## Ejercicio 2: Trabajo con argumentos de palabra clave\n",
    "Ejercicio : Trabajar con argumentos de palabras clave en funciones\n",
    "\n",
    "En este ejercicio, construirás un informe de cohete que requiere varias piezas de información, como el tiempo hasta el destino, el combustible a la izquierda y el nombre del destino. Comienza por crear una función que creará un informe preciso de la misión:"
   ]
  },
  {
   "cell_type": "code",
   "execution_count": 15,
   "metadata": {},
   "outputs": [
    {
     "name": "stdout",
     "output_type": "stream",
     "text": [
      "\n",
      "    Mision a: Moon\n",
      "    Tiempo total: 65 minutos\n",
      "    Combustible: 500000 galones\n",
      "    \n"
     ]
    }
   ],
   "source": [
    "# Función con un informe preciso de la misión. Considera hora de prelanzamiento, tiempo de vuelo, destino, tanque externo y tanque interno\n",
    "def informeMision(tiempoAntesDespegar,tiempoTotal,destino,tanqueExterno,tanquePrincipal):\n",
    "\treturn f\"\"\"\n",
    "    Mision a: {destino}\n",
    "    Tiempo total: {tiempoAntesDespegar + tiempoTotal } minutos\n",
    "    Combustible: {tanqueExterno + tanquePrincipal } galones\n",
    "    \"\"\"\n",
    "print(informeMision(14, 51, \"Moon\", 200000, 300000))"
   ]
  },
  {
   "cell_type": "markdown",
   "metadata": {},
   "source": [
    "La función es problemática porque no se puede adaptar para minutos adicionales o tanques adicionales de combustible. Hazlo más flexible permitiendo cualquier número de pasos basados en el tiempo y cualquier número de tanques. En lugar de usar *args y **kwargs, aprovecha el hecho de que puedes usar cualquier nombre que desees. Asegurate que la función sea más legible mediante el uso de nombres de variables que están asociados con las entradas, como *minutes y **fuel_reservoirs:"
   ]
  },
  {
   "cell_type": "code",
   "execution_count": 16,
   "metadata": {},
   "outputs": [
    {
     "name": "stdout",
     "output_type": "stream",
     "text": [
      "\n",
      "    Mision a: Moon\n",
      "    Tiempo de viaje: 76 minutos\n",
      "    Combustible: 500000\n",
      "    \n"
     ]
    }
   ],
   "source": [
    "# Escribe tu nueva función de reporte considerando lo anterior\n",
    "def informeMision2(destino,*minutes,**fuel_reservoirs):\n",
    "\treturn f\"\"\"\n",
    "    Mision a: {destino}\n",
    "    Tiempo de viaje: {sum(minutes)} minutos\n",
    "    Combustible: {sum(fuel_reservoirs.values())}\n",
    "    \"\"\"\n",
    "print(informeMision2(\"Moon\", 10, 15, 51, main=300000, external=200000))"
   ]
  },
  {
   "cell_type": "markdown",
   "metadata": {},
   "source": [
    "Debido a que el combustible que queda en los tanques es específico de cada tanque, actualiza la función para usar el nombre de cada tanque en el informe:"
   ]
  },
  {
   "cell_type": "code",
   "execution_count": 20,
   "metadata": {},
   "outputs": [
    {
     "name": "stdout",
     "output_type": "stream",
     "text": [
      "\n",
      "    Mision a: Moon\n",
      "    Tiempo de viaje: 74 minutos\n",
      "    Combustible: 500000\n",
      "    principal tanque --> 300000 galones \n",
      "externo tanque --> 200000 galones \n",
      "\n"
     ]
    }
   ],
   "source": [
    "# Escribe tu nueva función\n",
    "def informeMision3(destino, *minutes, **fuel_reservoirs):\n",
    "    reporte = f\"\"\"\n",
    "    Mision a: {destino}\n",
    "    Tiempo de viaje: {sum(minutes)} minutos\n",
    "    Combustible: {sum(fuel_reservoirs.values())}\n",
    "    \"\"\"\n",
    "    for nombreTanque, galones in fuel_reservoirs.items():\n",
    "        reporte += f\"{nombreTanque} tanque --> {galones} galones \\n\"\n",
    "    return reporte\n",
    "\n",
    "print(informeMision3(\"Moon\", 8, 11, 55, principal=300000, externo=200000))"
   ]
  }
 ],
 "metadata": {
  "interpreter": {
   "hash": "aee8b7b246df8f9039afb4144a1f6fd8d2ca17a180786b69acc140d282b71a49"
  },
  "kernelspec": {
   "display_name": "Python 3.10.2 64-bit",
   "language": "python",
   "name": "python3"
  },
  "language_info": {
   "codemirror_mode": {
    "name": "ipython",
    "version": 3
   },
   "file_extension": ".py",
   "mimetype": "text/x-python",
   "name": "python",
   "nbconvert_exporter": "python",
   "pygments_lexer": "ipython3",
   "version": "3.10.2"
  },
  "orig_nbformat": 4
 },
 "nbformat": 4,
 "nbformat_minor": 2
}
